{
 "cells": [
  {
   "cell_type": "markdown",
   "metadata": {
    "heading_collapsed": true
   },
   "source": [
    "# Imports"
   ]
  },
  {
   "cell_type": "code",
   "execution_count": null,
   "metadata": {
    "ExecuteTime": {
     "end_time": "2020-12-10T13:02:48.438722Z",
     "start_time": "2020-12-10T13:02:48.434551Z"
    },
    "hidden": true
   },
   "outputs": [],
   "source": [
    "import pandas as pd\n",
    "import tseuler as tse\n",
    "from helperhandler import dataHolder"
   ]
  },
  {
   "cell_type": "markdown",
   "metadata": {},
   "source": [
    "# Load and Explore the Datasets Available"
   ]
  },
  {
   "cell_type": "code",
   "execution_count": null,
   "metadata": {
    "ExecuteTime": {
     "end_time": "2020-12-10T13:02:38.418423Z",
     "start_time": "2020-12-10T13:02:38.273280Z"
    }
   },
   "outputs": [],
   "source": [
    "dataHolder.load_data()"
   ]
  },
  {
   "cell_type": "code",
   "execution_count": null,
   "metadata": {
    "ExecuteTime": {
     "end_time": "2020-12-10T13:02:38.461168Z",
     "start_time": "2020-12-10T13:02:38.451072Z"
    }
   },
   "outputs": [],
   "source": [
    "dataHolder.dataDf"
   ]
  },
  {
   "cell_type": "code",
   "execution_count": null,
   "metadata": {
    "ExecuteTime": {
     "end_time": "2020-12-10T13:13:13.340250Z",
     "start_time": "2020-12-10T13:13:13.004222Z"
    }
   },
   "outputs": [],
   "source": [
    "dataObj = dataHolder.bucket['beer_prod']\n",
    "print(dataObj.long_description)\n",
    "dataObj.exploratory_plot()\n",
    "dataDF = dataObj.data.copy()"
   ]
  },
  {
   "cell_type": "markdown",
   "metadata": {},
   "source": [
    "# tsEULER"
   ]
  },
  {
   "cell_type": "markdown",
   "metadata": {
    "heading_collapsed": true
   },
   "source": [
    "## Stocks Data"
   ]
  },
  {
   "cell_type": "code",
   "execution_count": null,
   "metadata": {
    "ExecuteTime": {
     "end_time": "2020-12-10T13:04:09.181762Z",
     "start_time": "2020-12-10T13:04:09.160654Z"
    },
    "hidden": true
   },
   "outputs": [],
   "source": [
    "dataDF.Date = pd.to_datetime(dataDF.Date)\n",
    "dataDF.set_index('Date', inplace=True)\n",
    "dataDF.head()"
   ]
  },
  {
   "cell_type": "code",
   "execution_count": null,
   "metadata": {
    "ExecuteTime": {
     "end_time": "2020-12-10T13:04:10.996938Z",
     "start_time": "2020-12-10T13:04:10.967559Z"
    },
    "hidden": true
   },
   "outputs": [],
   "source": [
    "tsmadObj = tse.TSMAD(tsdata = dataDF, data_desc = 'Stocks Data',\n",
    "                     target_columns = ['close'], categorical_columns = ['Name'],\n",
    "                     dt_format = '%Y-%m-%d', dt_freq = 'B',\n",
    "                     how_aggregate = {'open':'first', 'high':'max', 'low':'min', 'close':'last'},\n",
    "                     force_interactive = True)"
   ]
  },
  {
   "cell_type": "code",
   "execution_count": null,
   "metadata": {
    "ExecuteTime": {
     "end_time": "2020-12-10T13:05:11.784809Z",
     "start_time": "2020-12-10T13:05:11.782028Z"
    },
    "hidden": true
   },
   "outputs": [],
   "source": [
    "tsmadObj.get_board()"
   ]
  },
  {
   "cell_type": "markdown",
   "metadata": {
    "heading_collapsed": true
   },
   "source": [
    "## Air Passengers Data"
   ]
  },
  {
   "cell_type": "code",
   "execution_count": null,
   "metadata": {
    "ExecuteTime": {
     "end_time": "2020-12-10T13:05:30.091605Z",
     "start_time": "2020-12-10T13:05:30.083825Z"
    },
    "hidden": true
   },
   "outputs": [],
   "source": [
    "tsmadObj = tse.TSMAD(tsdata = dataDF, data_desc = 'Air Passengers',\n",
    "                     target_columns = ['Passengers'],\n",
    "                     dt_format = '%Y-%m-%d', dt_freq = 'MS',\n",
    "                     how_aggregate = 'mean',\n",
    "                     force_interactive = True)"
   ]
  },
  {
   "cell_type": "code",
   "execution_count": null,
   "metadata": {
    "ExecuteTime": {
     "end_time": "2020-12-10T13:05:37.887583Z",
     "start_time": "2020-12-10T13:05:37.884515Z"
    },
    "hidden": true
   },
   "outputs": [],
   "source": [
    "tsmadObj.get_board()"
   ]
  },
  {
   "cell_type": "markdown",
   "metadata": {
    "heading_collapsed": true
   },
   "source": [
    "## India CPI"
   ]
  },
  {
   "cell_type": "code",
   "execution_count": null,
   "metadata": {
    "ExecuteTime": {
     "end_time": "2020-12-10T13:06:17.359644Z",
     "start_time": "2020-12-10T13:06:17.351343Z"
    },
    "hidden": true
   },
   "outputs": [],
   "source": [
    "dataDF.Date = pd.to_datetime(dataDF.Date)\n",
    "dataDF.set_index('Date', inplace=True)"
   ]
  },
  {
   "cell_type": "code",
   "execution_count": null,
   "metadata": {
    "ExecuteTime": {
     "end_time": "2020-12-10T13:06:19.102109Z",
     "start_time": "2020-12-10T13:06:19.052006Z"
    },
    "hidden": true
   },
   "outputs": [],
   "source": [
    "tsmadObj = tse.TSMAD(tsdata = dataDF, data_desc = 'Consumer Price Index (India)',\n",
    "                     target_columns = ['Urban'],\n",
    "                     dt_format = '%Y-%m-%d', dt_freq = 'MS',\n",
    "                     categorical_columns = ['State', 'Description'],\n",
    "                     how_aggregate = 'mean',\n",
    "                     force_interactive = True)"
   ]
  },
  {
   "cell_type": "code",
   "execution_count": null,
   "metadata": {
    "ExecuteTime": {
     "end_time": "2020-12-10T13:06:20.500593Z",
     "start_time": "2020-12-10T13:06:20.073182Z"
    },
    "hidden": true
   },
   "outputs": [],
   "source": [
    "tsmadObj.get_board()"
   ]
  },
  {
   "cell_type": "markdown",
   "metadata": {},
   "source": [
    "## Beer Production"
   ]
  },
  {
   "cell_type": "code",
   "execution_count": null,
   "metadata": {
    "ExecuteTime": {
     "end_time": "2020-12-10T13:13:20.460376Z",
     "start_time": "2020-12-10T13:13:20.451193Z"
    }
   },
   "outputs": [],
   "source": [
    "tsmadObj = tse.TSMAD(tsdata = dataDF, data_desc = 'Beer Production',\n",
    "                     target_columns = ['MBP'],\n",
    "                     dt_format = '%Y-%m-%d', dt_freq = 'MS',\n",
    "                     how_aggregate = 'mean',\n",
    "                     force_interactive = True)"
   ]
  },
  {
   "cell_type": "code",
   "execution_count": null,
   "metadata": {
    "ExecuteTime": {
     "end_time": "2020-12-10T13:13:21.874193Z",
     "start_time": "2020-12-10T13:13:21.389835Z"
    }
   },
   "outputs": [],
   "source": [
    "tsmadObj.get_board()"
   ]
  },
  {
   "cell_type": "code",
   "execution_count": null,
   "metadata": {
    "ExecuteTime": {
     "end_time": "2020-12-10T13:00:10.227794Z",
     "start_time": "2020-12-10T13:00:10.215059Z"
    }
   },
   "outputs": [],
   "source": []
  },
  {
   "cell_type": "code",
   "execution_count": null,
   "metadata": {},
   "outputs": [],
   "source": []
  },
  {
   "cell_type": "markdown",
   "metadata": {},
   "source": [
    "# Random Testing Space"
   ]
  },
  {
   "cell_type": "code",
   "execution_count": null,
   "metadata": {
    "ExecuteTime": {
     "end_time": "2020-12-10T13:06:00.105104Z",
     "start_time": "2020-12-10T13:06:00.097319Z"
    }
   },
   "outputs": [],
   "source": []
  },
  {
   "cell_type": "code",
   "execution_count": null,
   "metadata": {},
   "outputs": [],
   "source": []
  },
  {
   "cell_type": "code",
   "execution_count": null,
   "metadata": {},
   "outputs": [],
   "source": []
  },
  {
   "cell_type": "code",
   "execution_count": null,
   "metadata": {},
   "outputs": [],
   "source": []
  },
  {
   "cell_type": "code",
   "execution_count": null,
   "metadata": {},
   "outputs": [],
   "source": []
  },
  {
   "cell_type": "code",
   "execution_count": null,
   "metadata": {},
   "outputs": [],
   "source": []
  }
 ],
 "metadata": {
  "kernelspec": {
   "display_name": "Python 3",
   "language": "python",
   "name": "python3"
  },
  "language_info": {
   "codemirror_mode": {
    "name": "ipython",
    "version": 3
   },
   "file_extension": ".py",
   "mimetype": "text/x-python",
   "name": "python",
   "nbconvert_exporter": "python",
   "pygments_lexer": "ipython3",
   "version": "3.8.3"
  },
  "toc": {
   "base_numbering": 1,
   "nav_menu": {},
   "number_sections": true,
   "sideBar": true,
   "skip_h1_title": false,
   "title_cell": "Table of Contents",
   "title_sidebar": "Contents",
   "toc_cell": false,
   "toc_position": {},
   "toc_section_display": true,
   "toc_window_display": false
  },
  "varInspector": {
   "cols": {
    "lenName": 16,
    "lenType": 16,
    "lenVar": 40
   },
   "kernels_config": {
    "python": {
     "delete_cmd_postfix": "",
     "delete_cmd_prefix": "del ",
     "library": "var_list.py",
     "varRefreshCmd": "print(var_dic_list())"
    },
    "r": {
     "delete_cmd_postfix": ") ",
     "delete_cmd_prefix": "rm(",
     "library": "var_list.r",
     "varRefreshCmd": "cat(var_dic_list()) "
    }
   },
   "types_to_exclude": [
    "module",
    "function",
    "builtin_function_or_method",
    "instance",
    "_Feature"
   ],
   "window_display": false
  }
 },
 "nbformat": 4,
 "nbformat_minor": 4
}
